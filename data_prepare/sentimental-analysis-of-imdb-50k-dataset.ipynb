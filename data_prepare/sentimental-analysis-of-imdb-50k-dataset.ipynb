{
 "cells": [
  {
   "cell_type": "code",
   "execution_count": 126,
   "id": "63ad7de6",
   "metadata": {
    "execution": {
     "iopub.execute_input": "2024-04-07T22:07:45.624086Z",
     "iopub.status.busy": "2024-04-07T22:07:45.623144Z",
     "iopub.status.idle": "2024-04-07T22:07:46.461079Z",
     "shell.execute_reply": "2024-04-07T22:07:46.460093Z"
    },
    "papermill": {
     "duration": 0.856888,
     "end_time": "2024-04-07T22:07:46.463443",
     "exception": false,
     "start_time": "2024-04-07T22:07:45.606555",
     "status": "completed"
    },
    "tags": []
   },
   "outputs": [],
   "source": [
    "import numpy as np\n",
    "import pandas as pd"
   ]
  },
  {
   "cell_type": "code",
   "execution_count": 127,
   "id": "73429b45",
   "metadata": {
    "execution": {
     "iopub.execute_input": "2024-04-07T22:07:46.493575Z",
     "iopub.status.busy": "2024-04-07T22:07:46.492296Z",
     "iopub.status.idle": "2024-04-07T22:07:48.031142Z",
     "shell.execute_reply": "2024-04-07T22:07:48.030248Z"
    },
    "papermill": {
     "duration": 1.55627,
     "end_time": "2024-04-07T22:07:48.033963",
     "exception": false,
     "start_time": "2024-04-07T22:07:46.477693",
     "status": "completed"
    },
    "tags": []
   },
   "outputs": [],
   "source": [
    "tdf = pd.read_csv(\"IMDB Dataset.csv\")\n",
    "df= tdf.iloc[:10000,:]"
   ]
  },
  {
   "cell_type": "code",
   "execution_count": 128,
   "id": "20fc6d12",
   "metadata": {
    "execution": {
     "iopub.execute_input": "2024-04-07T22:07:48.064935Z",
     "iopub.status.busy": "2024-04-07T22:07:48.063904Z",
     "iopub.status.idle": "2024-04-07T22:07:48.078904Z",
     "shell.execute_reply": "2024-04-07T22:07:48.077874Z"
    },
    "papermill": {
     "duration": 0.032775,
     "end_time": "2024-04-07T22:07:48.081097",
     "exception": false,
     "start_time": "2024-04-07T22:07:48.048322",
     "status": "completed"
    },
    "tags": []
   },
   "outputs": [
    {
     "data": {
      "text/html": [
       "<div>\n",
       "<style scoped>\n",
       "    .dataframe tbody tr th:only-of-type {\n",
       "        vertical-align: middle;\n",
       "    }\n",
       "\n",
       "    .dataframe tbody tr th {\n",
       "        vertical-align: top;\n",
       "    }\n",
       "\n",
       "    .dataframe thead th {\n",
       "        text-align: right;\n",
       "    }\n",
       "</style>\n",
       "<table border=\"1\" class=\"dataframe\">\n",
       "  <thead>\n",
       "    <tr style=\"text-align: right;\">\n",
       "      <th></th>\n",
       "      <th>review</th>\n",
       "      <th>sentiment</th>\n",
       "    </tr>\n",
       "  </thead>\n",
       "  <tbody>\n",
       "    <tr>\n",
       "      <th>0</th>\n",
       "      <td>One of the other reviewers has mentioned that ...</td>\n",
       "      <td>positive</td>\n",
       "    </tr>\n",
       "    <tr>\n",
       "      <th>1</th>\n",
       "      <td>A wonderful little production. &lt;br /&gt;&lt;br /&gt;The...</td>\n",
       "      <td>positive</td>\n",
       "    </tr>\n",
       "    <tr>\n",
       "      <th>2</th>\n",
       "      <td>I thought this was a wonderful way to spend ti...</td>\n",
       "      <td>positive</td>\n",
       "    </tr>\n",
       "    <tr>\n",
       "      <th>3</th>\n",
       "      <td>Basically there's a family where a little boy ...</td>\n",
       "      <td>negative</td>\n",
       "    </tr>\n",
       "    <tr>\n",
       "      <th>4</th>\n",
       "      <td>Petter Mattei's \"Love in the Time of Money\" is...</td>\n",
       "      <td>positive</td>\n",
       "    </tr>\n",
       "  </tbody>\n",
       "</table>\n",
       "</div>"
      ],
      "text/plain": [
       "                                              review sentiment\n",
       "0  One of the other reviewers has mentioned that ...  positive\n",
       "1  A wonderful little production. <br /><br />The...  positive\n",
       "2  I thought this was a wonderful way to spend ti...  positive\n",
       "3  Basically there's a family where a little boy ...  negative\n",
       "4  Petter Mattei's \"Love in the Time of Money\" is...  positive"
      ]
     },
     "execution_count": 128,
     "metadata": {},
     "output_type": "execute_result"
    }
   ],
   "source": [
    "df.head()"
   ]
  },
  {
   "cell_type": "code",
   "execution_count": 129,
   "id": "f5879781",
   "metadata": {
    "execution": {
     "iopub.execute_input": "2024-04-07T22:07:48.113198Z",
     "iopub.status.busy": "2024-04-07T22:07:48.112238Z",
     "iopub.status.idle": "2024-04-07T22:07:48.120299Z",
     "shell.execute_reply": "2024-04-07T22:07:48.119249Z"
    },
    "papermill": {
     "duration": 0.027444,
     "end_time": "2024-04-07T22:07:48.122733",
     "exception": false,
     "start_time": "2024-04-07T22:07:48.095289",
     "status": "completed"
    },
    "tags": []
   },
   "outputs": [
    {
     "data": {
      "text/plain": [
       "'A wonderful little production. <br /><br />The filming technique is very unassuming- very old-time-BBC fashion and gives a comforting, and sometimes discomforting, sense of realism to the entire piece. <br /><br />The actors are extremely well chosen- Michael Sheen not only \"has got all the polari\" but he has all the voices down pat too! You can truly see the seamless editing guided by the references to Williams\\' diary entries, not only is it well worth the watching but it is a terrificly written and performed piece. A masterful production about one of the great master\\'s of comedy and his life. <br /><br />The realism really comes home with the little things: the fantasy of the guard which, rather than use the traditional \\'dream\\' techniques remains solid then disappears. It plays on our knowledge and our senses, particularly with the scenes concerning Orton and Halliwell and the sets (particularly of their flat with Halliwell\\'s murals decorating every surface) are terribly well done.'"
      ]
     },
     "execution_count": 129,
     "metadata": {},
     "output_type": "execute_result"
    }
   ],
   "source": [
    "df['review'][1]"
   ]
  },
  {
   "cell_type": "code",
   "execution_count": 130,
   "id": "31d56327",
   "metadata": {
    "execution": {
     "iopub.execute_input": "2024-04-07T22:07:48.155352Z",
     "iopub.status.busy": "2024-04-07T22:07:48.154972Z",
     "iopub.status.idle": "2024-04-07T22:07:48.168591Z",
     "shell.execute_reply": "2024-04-07T22:07:48.167784Z"
    },
    "papermill": {
     "duration": 0.031994,
     "end_time": "2024-04-07T22:07:48.170557",
     "exception": false,
     "start_time": "2024-04-07T22:07:48.138563",
     "status": "completed"
    },
    "tags": []
   },
   "outputs": [
    {
     "data": {
      "text/plain": [
       "positive    5028\n",
       "negative    4972\n",
       "Name: sentiment, dtype: int64"
      ]
     },
     "execution_count": 130,
     "metadata": {},
     "output_type": "execute_result"
    }
   ],
   "source": [
    "df['sentiment'].value_counts()"
   ]
  },
  {
   "cell_type": "code",
   "execution_count": 131,
   "id": "519e2256",
   "metadata": {
    "execution": {
     "iopub.execute_input": "2024-04-07T22:07:48.202054Z",
     "iopub.status.busy": "2024-04-07T22:07:48.201377Z",
     "iopub.status.idle": "2024-04-07T22:07:48.214239Z",
     "shell.execute_reply": "2024-04-07T22:07:48.213406Z"
    },
    "papermill": {
     "duration": 0.031688,
     "end_time": "2024-04-07T22:07:48.217143",
     "exception": false,
     "start_time": "2024-04-07T22:07:48.185455",
     "status": "completed"
    },
    "tags": []
   },
   "outputs": [
    {
     "data": {
      "text/plain": [
       "review       0\n",
       "sentiment    0\n",
       "dtype: int64"
      ]
     },
     "execution_count": 131,
     "metadata": {},
     "output_type": "execute_result"
    }
   ],
   "source": [
    "df.isnull().sum()"
   ]
  },
  {
   "cell_type": "code",
   "execution_count": 132,
   "id": "6594bba3",
   "metadata": {
    "execution": {
     "iopub.execute_input": "2024-04-07T22:07:48.248394Z",
     "iopub.status.busy": "2024-04-07T22:07:48.248000Z",
     "iopub.status.idle": "2024-04-07T22:07:48.295512Z",
     "shell.execute_reply": "2024-04-07T22:07:48.294356Z"
    },
    "papermill": {
     "duration": 0.065605,
     "end_time": "2024-04-07T22:07:48.297733",
     "exception": false,
     "start_time": "2024-04-07T22:07:48.232128",
     "status": "completed"
    },
    "tags": []
   },
   "outputs": [
    {
     "data": {
      "text/plain": [
       "17"
      ]
     },
     "execution_count": 132,
     "metadata": {},
     "output_type": "execute_result"
    }
   ],
   "source": [
    "df.duplicated().sum()"
   ]
  },
  {
   "cell_type": "code",
   "execution_count": 133,
   "id": "ebd65c2a",
   "metadata": {
    "execution": {
     "iopub.execute_input": "2024-04-07T22:07:48.329533Z",
     "iopub.status.busy": "2024-04-07T22:07:48.329133Z",
     "iopub.status.idle": "2024-04-07T22:07:48.379555Z",
     "shell.execute_reply": "2024-04-07T22:07:48.378462Z"
    },
    "papermill": {
     "duration": 0.069139,
     "end_time": "2024-04-07T22:07:48.382036",
     "exception": false,
     "start_time": "2024-04-07T22:07:48.312897",
     "status": "completed"
    },
    "tags": []
   },
   "outputs": [
    {
     "name": "stderr",
     "output_type": "stream",
     "text": [
      "/Users/liutianhao/anaconda3/envs/comp47490/lib/python3.8/site-packages/pandas/util/_decorators.py:311: SettingWithCopyWarning: \n",
      "A value is trying to be set on a copy of a slice from a DataFrame\n",
      "\n",
      "See the caveats in the documentation: https://pandas.pydata.org/pandas-docs/stable/user_guide/indexing.html#returning-a-view-versus-a-copy\n",
      "  return func(*args, **kwargs)\n"
     ]
    }
   ],
   "source": [
    "df.drop_duplicates(inplace = True)"
   ]
  },
  {
   "cell_type": "code",
   "execution_count": 134,
   "id": "1d9c14f5",
   "metadata": {
    "execution": {
     "iopub.execute_input": "2024-04-07T22:07:48.414273Z",
     "iopub.status.busy": "2024-04-07T22:07:48.413557Z",
     "iopub.status.idle": "2024-04-07T22:07:48.455060Z",
     "shell.execute_reply": "2024-04-07T22:07:48.454053Z"
    },
    "papermill": {
     "duration": 0.06062,
     "end_time": "2024-04-07T22:07:48.457757",
     "exception": false,
     "start_time": "2024-04-07T22:07:48.397137",
     "status": "completed"
    },
    "tags": []
   },
   "outputs": [
    {
     "data": {
      "text/plain": [
       "0"
      ]
     },
     "execution_count": 134,
     "metadata": {},
     "output_type": "execute_result"
    }
   ],
   "source": [
    "df.duplicated().sum()"
   ]
  },
  {
   "cell_type": "markdown",
   "id": "6fb8a2ee",
   "metadata": {
    "papermill": {
     "duration": 0.014819,
     "end_time": "2024-04-07T22:07:48.487901",
     "exception": false,
     "start_time": "2024-04-07T22:07:48.473082",
     "status": "completed"
    },
    "tags": []
   },
   "source": [
    "# Removing HTML tags using regular expresions"
   ]
  },
  {
   "cell_type": "code",
   "execution_count": 135,
   "id": "9f44307d",
   "metadata": {
    "execution": {
     "iopub.execute_input": "2024-04-07T22:07:48.519510Z",
     "iopub.status.busy": "2024-04-07T22:07:48.519111Z",
     "iopub.status.idle": "2024-04-07T22:07:48.524758Z",
     "shell.execute_reply": "2024-04-07T22:07:48.523660Z"
    },
    "papermill": {
     "duration": 0.024225,
     "end_time": "2024-04-07T22:07:48.526988",
     "exception": false,
     "start_time": "2024-04-07T22:07:48.502763",
     "status": "completed"
    },
    "tags": []
   },
   "outputs": [],
   "source": [
    "import re \n",
    "def remove_tags(raw_text):\n",
    "    cleaned_text = re.sub(re.compile('<.*?>'),\"\",raw_text)\n",
    "    return cleaned_text"
   ]
  },
  {
   "cell_type": "code",
   "execution_count": 136,
   "id": "41df7d29",
   "metadata": {
    "execution": {
     "iopub.execute_input": "2024-04-07T22:07:48.559048Z",
     "iopub.status.busy": "2024-04-07T22:07:48.558468Z",
     "iopub.status.idle": "2024-04-07T22:07:48.631914Z",
     "shell.execute_reply": "2024-04-07T22:07:48.630872Z"
    },
    "papermill": {
     "duration": 0.091917,
     "end_time": "2024-04-07T22:07:48.634115",
     "exception": false,
     "start_time": "2024-04-07T22:07:48.542198",
     "status": "completed"
    },
    "tags": []
   },
   "outputs": [
    {
     "name": "stderr",
     "output_type": "stream",
     "text": [
      "/var/folders/v8/h52cz4vd2dlf3fkywpzw3qlc0000gn/T/ipykernel_72635/413736377.py:1: SettingWithCopyWarning: \n",
      "A value is trying to be set on a copy of a slice from a DataFrame.\n",
      "Try using .loc[row_indexer,col_indexer] = value instead\n",
      "\n",
      "See the caveats in the documentation: https://pandas.pydata.org/pandas-docs/stable/user_guide/indexing.html#returning-a-view-versus-a-copy\n",
      "  df['review'] = df['review'].apply(remove_tags)\n"
     ]
    },
    {
     "data": {
      "text/plain": [
       "'A wonderful little production. The filming technique is very unassuming- very old-time-BBC fashion and gives a comforting, and sometimes discomforting, sense of realism to the entire piece. The actors are extremely well chosen- Michael Sheen not only \"has got all the polari\" but he has all the voices down pat too! You can truly see the seamless editing guided by the references to Williams\\' diary entries, not only is it well worth the watching but it is a terrificly written and performed piece. A masterful production about one of the great master\\'s of comedy and his life. The realism really comes home with the little things: the fantasy of the guard which, rather than use the traditional \\'dream\\' techniques remains solid then disappears. It plays on our knowledge and our senses, particularly with the scenes concerning Orton and Halliwell and the sets (particularly of their flat with Halliwell\\'s murals decorating every surface) are terribly well done.'"
      ]
     },
     "execution_count": 136,
     "metadata": {},
     "output_type": "execute_result"
    }
   ],
   "source": [
    "df['review'] = df['review'].apply(remove_tags)\n",
    "df['review'][1]"
   ]
  },
  {
   "cell_type": "markdown",
   "id": "f224c84d",
   "metadata": {
    "papermill": {
     "duration": 0.015263,
     "end_time": "2024-04-07T22:07:48.664768",
     "exception": false,
     "start_time": "2024-04-07T22:07:48.649505",
     "status": "completed"
    },
    "tags": []
   },
   "source": [
    "# converting into lower case"
   ]
  },
  {
   "cell_type": "code",
   "execution_count": 137,
   "id": "9cc28bef",
   "metadata": {
    "execution": {
     "iopub.execute_input": "2024-04-07T22:07:48.697622Z",
     "iopub.status.busy": "2024-04-07T22:07:48.696955Z",
     "iopub.status.idle": "2024-04-07T22:07:48.750210Z",
     "shell.execute_reply": "2024-04-07T22:07:48.749053Z"
    },
    "papermill": {
     "duration": 0.073438,
     "end_time": "2024-04-07T22:07:48.753710",
     "exception": false,
     "start_time": "2024-04-07T22:07:48.680272",
     "status": "completed"
    },
    "tags": []
   },
   "outputs": [
    {
     "name": "stderr",
     "output_type": "stream",
     "text": [
      "/var/folders/v8/h52cz4vd2dlf3fkywpzw3qlc0000gn/T/ipykernel_72635/2521804453.py:1: SettingWithCopyWarning: \n",
      "A value is trying to be set on a copy of a slice from a DataFrame.\n",
      "Try using .loc[row_indexer,col_indexer] = value instead\n",
      "\n",
      "See the caveats in the documentation: https://pandas.pydata.org/pandas-docs/stable/user_guide/indexing.html#returning-a-view-versus-a-copy\n",
      "  df['review'] = df['review'].apply(lambda x:x.lower())\n"
     ]
    },
    {
     "data": {
      "text/plain": [
       "'a wonderful little production. the filming technique is very unassuming- very old-time-bbc fashion and gives a comforting, and sometimes discomforting, sense of realism to the entire piece. the actors are extremely well chosen- michael sheen not only \"has got all the polari\" but he has all the voices down pat too! you can truly see the seamless editing guided by the references to williams\\' diary entries, not only is it well worth the watching but it is a terrificly written and performed piece. a masterful production about one of the great master\\'s of comedy and his life. the realism really comes home with the little things: the fantasy of the guard which, rather than use the traditional \\'dream\\' techniques remains solid then disappears. it plays on our knowledge and our senses, particularly with the scenes concerning orton and halliwell and the sets (particularly of their flat with halliwell\\'s murals decorating every surface) are terribly well done.'"
      ]
     },
     "execution_count": 137,
     "metadata": {},
     "output_type": "execute_result"
    }
   ],
   "source": [
    "df['review'] = df['review'].apply(lambda x:x.lower())\n",
    "df['review'][1]"
   ]
  },
  {
   "cell_type": "markdown",
   "id": "ca5b7f2e",
   "metadata": {
    "papermill": {
     "duration": 0.016162,
     "end_time": "2024-04-07T22:07:48.786266",
     "exception": false,
     "start_time": "2024-04-07T22:07:48.770104",
     "status": "completed"
    },
    "tags": []
   },
   "source": [
    "# Remove Punctuation"
   ]
  },
  {
   "cell_type": "code",
   "execution_count": 138,
   "id": "e2f02497",
   "metadata": {
    "execution": {
     "iopub.execute_input": "2024-04-07T22:07:48.820541Z",
     "iopub.status.busy": "2024-04-07T22:07:48.820093Z",
     "iopub.status.idle": "2024-04-07T22:07:48.824888Z",
     "shell.execute_reply": "2024-04-07T22:07:48.823891Z"
    },
    "papermill": {
     "duration": 0.025023,
     "end_time": "2024-04-07T22:07:48.827099",
     "exception": false,
     "start_time": "2024-04-07T22:07:48.802076",
     "status": "completed"
    },
    "tags": []
   },
   "outputs": [],
   "source": [
    "import string\n",
    "exclude = string.punctuation"
   ]
  },
  {
   "cell_type": "code",
   "execution_count": 139,
   "id": "29d87cdb",
   "metadata": {
    "execution": {
     "iopub.execute_input": "2024-04-07T22:07:48.860103Z",
     "iopub.status.busy": "2024-04-07T22:07:48.859726Z",
     "iopub.status.idle": "2024-04-07T22:07:48.865048Z",
     "shell.execute_reply": "2024-04-07T22:07:48.863966Z"
    },
    "papermill": {
     "duration": 0.024363,
     "end_time": "2024-04-07T22:07:48.867236",
     "exception": false,
     "start_time": "2024-04-07T22:07:48.842873",
     "status": "completed"
    },
    "tags": []
   },
   "outputs": [],
   "source": [
    "def remove_punctuation(text):\n",
    "    for c in exclude:\n",
    "        text = text.replace(c,'')\n",
    "    return text"
   ]
  },
  {
   "cell_type": "code",
   "execution_count": 140,
   "id": "c539360a",
   "metadata": {
    "execution": {
     "iopub.execute_input": "2024-04-07T22:07:48.901010Z",
     "iopub.status.busy": "2024-04-07T22:07:48.900629Z",
     "iopub.status.idle": "2024-04-07T22:07:49.181230Z",
     "shell.execute_reply": "2024-04-07T22:07:49.179901Z"
    },
    "papermill": {
     "duration": 0.300738,
     "end_time": "2024-04-07T22:07:49.184055",
     "exception": false,
     "start_time": "2024-04-07T22:07:48.883317",
     "status": "completed"
    },
    "tags": []
   },
   "outputs": [
    {
     "name": "stderr",
     "output_type": "stream",
     "text": [
      "/var/folders/v8/h52cz4vd2dlf3fkywpzw3qlc0000gn/T/ipykernel_72635/1250468065.py:1: SettingWithCopyWarning: \n",
      "A value is trying to be set on a copy of a slice from a DataFrame.\n",
      "Try using .loc[row_indexer,col_indexer] = value instead\n",
      "\n",
      "See the caveats in the documentation: https://pandas.pydata.org/pandas-docs/stable/user_guide/indexing.html#returning-a-view-versus-a-copy\n",
      "  df['review'] = df['review'].apply(remove_punctuation)\n"
     ]
    },
    {
     "data": {
      "text/plain": [
       "'a wonderful little production the filming technique is very unassuming very oldtimebbc fashion and gives a comforting and sometimes discomforting sense of realism to the entire piece the actors are extremely well chosen michael sheen not only has got all the polari but he has all the voices down pat too you can truly see the seamless editing guided by the references to williams diary entries not only is it well worth the watching but it is a terrificly written and performed piece a masterful production about one of the great masters of comedy and his life the realism really comes home with the little things the fantasy of the guard which rather than use the traditional dream techniques remains solid then disappears it plays on our knowledge and our senses particularly with the scenes concerning orton and halliwell and the sets particularly of their flat with halliwells murals decorating every surface are terribly well done'"
      ]
     },
     "execution_count": 140,
     "metadata": {},
     "output_type": "execute_result"
    }
   ],
   "source": [
    "df['review'] = df['review'].apply(remove_punctuation)\n",
    "df['review'][1]"
   ]
  },
  {
   "cell_type": "markdown",
   "id": "42a8fb55",
   "metadata": {
    "papermill": {
     "duration": 0.015899,
     "end_time": "2024-04-07T22:07:56.030666",
     "exception": false,
     "start_time": "2024-04-07T22:07:56.014767",
     "status": "completed"
    },
    "tags": []
   },
   "source": [
    "# training the model "
   ]
  },
  {
   "cell_type": "code",
   "execution_count": 141,
   "id": "ecf5f466",
   "metadata": {
    "execution": {
     "iopub.execute_input": "2024-04-07T22:07:56.064583Z",
     "iopub.status.busy": "2024-04-07T22:07:56.064050Z",
     "iopub.status.idle": "2024-04-07T22:07:56.077126Z",
     "shell.execute_reply": "2024-04-07T22:07:56.076391Z"
    },
    "papermill": {
     "duration": 0.032419,
     "end_time": "2024-04-07T22:07:56.079148",
     "exception": false,
     "start_time": "2024-04-07T22:07:56.046729",
     "status": "completed"
    },
    "tags": []
   },
   "outputs": [
    {
     "data": {
      "text/html": [
       "<div>\n",
       "<style scoped>\n",
       "    .dataframe tbody tr th:only-of-type {\n",
       "        vertical-align: middle;\n",
       "    }\n",
       "\n",
       "    .dataframe tbody tr th {\n",
       "        vertical-align: top;\n",
       "    }\n",
       "\n",
       "    .dataframe thead th {\n",
       "        text-align: right;\n",
       "    }\n",
       "</style>\n",
       "<table border=\"1\" class=\"dataframe\">\n",
       "  <thead>\n",
       "    <tr style=\"text-align: right;\">\n",
       "      <th></th>\n",
       "      <th>review</th>\n",
       "      <th>sentiment</th>\n",
       "    </tr>\n",
       "  </thead>\n",
       "  <tbody>\n",
       "    <tr>\n",
       "      <th>0</th>\n",
       "      <td>one of the other reviewers has mentioned that ...</td>\n",
       "      <td>positive</td>\n",
       "    </tr>\n",
       "    <tr>\n",
       "      <th>1</th>\n",
       "      <td>a wonderful little production the filming tech...</td>\n",
       "      <td>positive</td>\n",
       "    </tr>\n",
       "    <tr>\n",
       "      <th>2</th>\n",
       "      <td>i thought this was a wonderful way to spend ti...</td>\n",
       "      <td>positive</td>\n",
       "    </tr>\n",
       "    <tr>\n",
       "      <th>3</th>\n",
       "      <td>basically theres a family where a little boy j...</td>\n",
       "      <td>negative</td>\n",
       "    </tr>\n",
       "    <tr>\n",
       "      <th>4</th>\n",
       "      <td>petter matteis love in the time of money is a ...</td>\n",
       "      <td>positive</td>\n",
       "    </tr>\n",
       "    <tr>\n",
       "      <th>...</th>\n",
       "      <td>...</td>\n",
       "      <td>...</td>\n",
       "    </tr>\n",
       "    <tr>\n",
       "      <th>9995</th>\n",
       "      <td>fun entertaining movie about wwii german spy j...</td>\n",
       "      <td>positive</td>\n",
       "    </tr>\n",
       "    <tr>\n",
       "      <th>9996</th>\n",
       "      <td>give me a break how can anyone say that this i...</td>\n",
       "      <td>negative</td>\n",
       "    </tr>\n",
       "    <tr>\n",
       "      <th>9997</th>\n",
       "      <td>this movie is a bad movie but after watching a...</td>\n",
       "      <td>negative</td>\n",
       "    </tr>\n",
       "    <tr>\n",
       "      <th>9998</th>\n",
       "      <td>this is a movie that was probably made to ente...</td>\n",
       "      <td>negative</td>\n",
       "    </tr>\n",
       "    <tr>\n",
       "      <th>9999</th>\n",
       "      <td>smashing film about filmmaking shows the inten...</td>\n",
       "      <td>positive</td>\n",
       "    </tr>\n",
       "  </tbody>\n",
       "</table>\n",
       "<p>9983 rows × 2 columns</p>\n",
       "</div>"
      ],
      "text/plain": [
       "                                                 review sentiment\n",
       "0     one of the other reviewers has mentioned that ...  positive\n",
       "1     a wonderful little production the filming tech...  positive\n",
       "2     i thought this was a wonderful way to spend ti...  positive\n",
       "3     basically theres a family where a little boy j...  negative\n",
       "4     petter matteis love in the time of money is a ...  positive\n",
       "...                                                 ...       ...\n",
       "9995  fun entertaining movie about wwii german spy j...  positive\n",
       "9996  give me a break how can anyone say that this i...  negative\n",
       "9997  this movie is a bad movie but after watching a...  negative\n",
       "9998  this is a movie that was probably made to ente...  negative\n",
       "9999  smashing film about filmmaking shows the inten...  positive\n",
       "\n",
       "[9983 rows x 2 columns]"
      ]
     },
     "execution_count": 141,
     "metadata": {},
     "output_type": "execute_result"
    }
   ],
   "source": [
    "df"
   ]
  },
  {
   "cell_type": "code",
   "execution_count": 142,
   "id": "2bd5d984",
   "metadata": {
    "execution": {
     "iopub.execute_input": "2024-04-07T22:07:56.167014Z",
     "iopub.status.busy": "2024-04-07T22:07:56.166341Z",
     "iopub.status.idle": "2024-04-07T22:07:56.171581Z",
     "shell.execute_reply": "2024-04-07T22:07:56.170750Z"
    },
    "papermill": {
     "duration": 0.025445,
     "end_time": "2024-04-07T22:07:56.174142",
     "exception": false,
     "start_time": "2024-04-07T22:07:56.148697",
     "status": "completed"
    },
    "tags": []
   },
   "outputs": [],
   "source": [
    "X = df.iloc[:,0:1]\n",
    "\n",
    "y = df['sentiment']"
   ]
  },
  {
   "cell_type": "code",
   "execution_count": 143,
   "id": "b7540ff7",
   "metadata": {
    "execution": {
     "iopub.execute_input": "2024-04-07T22:07:56.208425Z",
     "iopub.status.busy": "2024-04-07T22:07:56.208058Z",
     "iopub.status.idle": "2024-04-07T22:07:56.218364Z",
     "shell.execute_reply": "2024-04-07T22:07:56.217405Z"
    },
    "papermill": {
     "duration": 0.030435,
     "end_time": "2024-04-07T22:07:56.220780",
     "exception": false,
     "start_time": "2024-04-07T22:07:56.190345",
     "status": "completed"
    },
    "tags": []
   },
   "outputs": [
    {
     "data": {
      "text/html": [
       "<div>\n",
       "<style scoped>\n",
       "    .dataframe tbody tr th:only-of-type {\n",
       "        vertical-align: middle;\n",
       "    }\n",
       "\n",
       "    .dataframe tbody tr th {\n",
       "        vertical-align: top;\n",
       "    }\n",
       "\n",
       "    .dataframe thead th {\n",
       "        text-align: right;\n",
       "    }\n",
       "</style>\n",
       "<table border=\"1\" class=\"dataframe\">\n",
       "  <thead>\n",
       "    <tr style=\"text-align: right;\">\n",
       "      <th></th>\n",
       "      <th>review</th>\n",
       "    </tr>\n",
       "  </thead>\n",
       "  <tbody>\n",
       "    <tr>\n",
       "      <th>0</th>\n",
       "      <td>one of the other reviewers has mentioned that ...</td>\n",
       "    </tr>\n",
       "    <tr>\n",
       "      <th>1</th>\n",
       "      <td>a wonderful little production the filming tech...</td>\n",
       "    </tr>\n",
       "    <tr>\n",
       "      <th>2</th>\n",
       "      <td>i thought this was a wonderful way to spend ti...</td>\n",
       "    </tr>\n",
       "    <tr>\n",
       "      <th>3</th>\n",
       "      <td>basically theres a family where a little boy j...</td>\n",
       "    </tr>\n",
       "    <tr>\n",
       "      <th>4</th>\n",
       "      <td>petter matteis love in the time of money is a ...</td>\n",
       "    </tr>\n",
       "    <tr>\n",
       "      <th>...</th>\n",
       "      <td>...</td>\n",
       "    </tr>\n",
       "    <tr>\n",
       "      <th>9995</th>\n",
       "      <td>fun entertaining movie about wwii german spy j...</td>\n",
       "    </tr>\n",
       "    <tr>\n",
       "      <th>9996</th>\n",
       "      <td>give me a break how can anyone say that this i...</td>\n",
       "    </tr>\n",
       "    <tr>\n",
       "      <th>9997</th>\n",
       "      <td>this movie is a bad movie but after watching a...</td>\n",
       "    </tr>\n",
       "    <tr>\n",
       "      <th>9998</th>\n",
       "      <td>this is a movie that was probably made to ente...</td>\n",
       "    </tr>\n",
       "    <tr>\n",
       "      <th>9999</th>\n",
       "      <td>smashing film about filmmaking shows the inten...</td>\n",
       "    </tr>\n",
       "  </tbody>\n",
       "</table>\n",
       "<p>9983 rows × 1 columns</p>\n",
       "</div>"
      ],
      "text/plain": [
       "                                                 review\n",
       "0     one of the other reviewers has mentioned that ...\n",
       "1     a wonderful little production the filming tech...\n",
       "2     i thought this was a wonderful way to spend ti...\n",
       "3     basically theres a family where a little boy j...\n",
       "4     petter matteis love in the time of money is a ...\n",
       "...                                                 ...\n",
       "9995  fun entertaining movie about wwii german spy j...\n",
       "9996  give me a break how can anyone say that this i...\n",
       "9997  this movie is a bad movie but after watching a...\n",
       "9998  this is a movie that was probably made to ente...\n",
       "9999  smashing film about filmmaking shows the inten...\n",
       "\n",
       "[9983 rows x 1 columns]"
      ]
     },
     "execution_count": 143,
     "metadata": {},
     "output_type": "execute_result"
    }
   ],
   "source": [
    "X"
   ]
  },
  {
   "cell_type": "markdown",
   "id": "907669c7",
   "metadata": {
    "papermill": {
     "duration": 0.017572,
     "end_time": "2024-04-07T22:07:56.255271",
     "exception": false,
     "start_time": "2024-04-07T22:07:56.237699",
     "status": "completed"
    },
    "tags": []
   },
   "source": [
    "# Label encodeing of y"
   ]
  },
  {
   "cell_type": "code",
   "execution_count": 144,
   "id": "0cd15887",
   "metadata": {
    "execution": {
     "iopub.execute_input": "2024-04-07T22:07:56.290403Z",
     "iopub.status.busy": "2024-04-07T22:07:56.290008Z",
     "iopub.status.idle": "2024-04-07T22:07:56.298060Z",
     "shell.execute_reply": "2024-04-07T22:07:56.296813Z"
    },
    "papermill": {
     "duration": 0.028291,
     "end_time": "2024-04-07T22:07:56.300296",
     "exception": false,
     "start_time": "2024-04-07T22:07:56.272005",
     "status": "completed"
    },
    "tags": []
   },
   "outputs": [],
   "source": [
    "from sklearn.preprocessing import LabelEncoder\n",
    "encoder = LabelEncoder()\n",
    "y = encoder.fit_transform(y)"
   ]
  },
  {
   "cell_type": "code",
   "execution_count": 145,
   "id": "e0a4b7f0",
   "metadata": {
    "execution": {
     "iopub.execute_input": "2024-04-07T22:07:56.335689Z",
     "iopub.status.busy": "2024-04-07T22:07:56.335291Z",
     "iopub.status.idle": "2024-04-07T22:07:56.341495Z",
     "shell.execute_reply": "2024-04-07T22:07:56.340546Z"
    },
    "papermill": {
     "duration": 0.026782,
     "end_time": "2024-04-07T22:07:56.343821",
     "exception": false,
     "start_time": "2024-04-07T22:07:56.317039",
     "status": "completed"
    },
    "tags": []
   },
   "outputs": [
    {
     "data": {
      "text/plain": [
       "array([1, 1, 1, ..., 0, 0, 1])"
      ]
     },
     "execution_count": 145,
     "metadata": {},
     "output_type": "execute_result"
    }
   ],
   "source": [
    "y"
   ]
  },
  {
   "cell_type": "code",
   "execution_count": 146,
   "id": "8a5c2e41",
   "metadata": {
    "execution": {
     "iopub.execute_input": "2024-04-07T22:07:56.379414Z",
     "iopub.status.busy": "2024-04-07T22:07:56.379011Z",
     "iopub.status.idle": "2024-04-07T22:07:56.388112Z",
     "shell.execute_reply": "2024-04-07T22:07:56.386905Z"
    },
    "papermill": {
     "duration": 0.029507,
     "end_time": "2024-04-07T22:07:56.390255",
     "exception": false,
     "start_time": "2024-04-07T22:07:56.360748",
     "status": "completed"
    },
    "tags": []
   },
   "outputs": [],
   "source": [
    "from sklearn.model_selection import train_test_split\n",
    "X_train,X_test,y_train,y_test = train_test_split(X,y,test_size = 0.2,random_state = 42)"
   ]
  },
  {
   "cell_type": "markdown",
   "id": "e93fa63b",
   "metadata": {
    "papermill": {
     "duration": 0.019178,
     "end_time": "2024-04-07T22:09:53.323300",
     "exception": false,
     "start_time": "2024-04-07T22:09:53.304122",
     "status": "completed"
    },
    "tags": []
   },
   "source": [
    "# tf IDF is used for vectorization"
   ]
  },
  {
   "cell_type": "code",
   "execution_count": 147,
   "id": "e7480aae",
   "metadata": {
    "execution": {
     "iopub.execute_input": "2024-04-07T22:09:53.362518Z",
     "iopub.status.busy": "2024-04-07T22:09:53.362090Z",
     "iopub.status.idle": "2024-04-07T22:09:53.367219Z",
     "shell.execute_reply": "2024-04-07T22:09:53.366115Z"
    },
    "papermill": {
     "duration": 0.027758,
     "end_time": "2024-04-07T22:09:53.369572",
     "exception": false,
     "start_time": "2024-04-07T22:09:53.341814",
     "status": "completed"
    },
    "tags": []
   },
   "outputs": [
    {
     "data": {
      "text/plain": [
       "['tfidf_vectorizer.pkl']"
      ]
     },
     "execution_count": 147,
     "metadata": {},
     "output_type": "execute_result"
    }
   ],
   "source": [
    "from sklearn.feature_extraction.text import TfidfVectorizer\n",
    "tf = TfidfVectorizer()\n",
    "\n",
    "X_train = tf.fit_transform(X_train['review'])\n",
    "X_test = tf.transform(X_test['review'])\n",
    "\n",
    "joblib.dump(tf, 'tfidf_vectorizer.pkl')"
   ]
  },
  {
   "cell_type": "code",
   "execution_count": 148,
   "id": "88e770f3",
   "metadata": {
    "execution": {
     "iopub.execute_input": "2024-04-07T22:11:38.815408Z",
     "iopub.status.busy": "2024-04-07T22:11:38.814974Z",
     "iopub.status.idle": "2024-04-07T22:11:38.927626Z",
     "shell.execute_reply": "2024-04-07T22:11:38.926677Z"
    },
    "papermill": {
     "duration": 0.136028,
     "end_time": "2024-04-07T22:11:38.930219",
     "exception": false,
     "start_time": "2024-04-07T22:11:38.794191",
     "status": "completed"
    },
    "tags": []
   },
   "outputs": [],
   "source": [
    "loaded_model = joblib.load('sentiment_analysis_model.pkl')\n",
    "loaded_tf = joblib.load('tfidf_vectorizer.pkl')"
   ]
  },
  {
   "cell_type": "markdown",
   "id": "1d964946",
   "metadata": {
    "papermill": {
     "duration": 0.018475,
     "end_time": "2024-04-07T22:11:38.967670",
     "exception": false,
     "start_time": "2024-04-07T22:11:38.949195",
     "status": "completed"
    },
    "tags": []
   },
   "source": [
    "# Lets test our model with an original realworld positive review of batman 2022"
   ]
  },
  {
   "cell_type": "code",
   "execution_count": 149,
   "id": "cd8b1625",
   "metadata": {
    "execution": {
     "iopub.execute_input": "2024-04-07T22:11:39.007238Z",
     "iopub.status.busy": "2024-04-07T22:11:39.006831Z",
     "iopub.status.idle": "2024-04-07T22:11:39.023740Z",
     "shell.execute_reply": "2024-04-07T22:11:39.022657Z"
    },
    "papermill": {
     "duration": 0.039622,
     "end_time": "2024-04-07T22:11:39.026123",
     "exception": false,
     "start_time": "2024-04-07T22:11:38.986501",
     "status": "completed"
    },
    "tags": []
   },
   "outputs": [
    {
     "name": "stdout",
     "output_type": "stream",
     "text": [
      "[[0. 0. 0. ... 0. 0. 0.]]\n",
      "[1]\n"
     ]
    }
   ],
   "source": [
    "text = \"Detective Batman at its peak! Great storyline. Just as dark a universe as we've come to expect from DC. The gloomy, gritty, dark tone of this film is exactly what I wanted. When you think the movie is over, there's more. Beautiful cinematography. Great score.\"\n",
    "pro_text = [text]\n",
    "X_new_tf = loaded_tf.transform(pro_text).toarray()\n",
    "print(X_new_tf)\n",
    "y_new_predict = loaded_model.predict(X_new_tf)\n",
    "print(y_new_predict)"
   ]
  },
  {
   "cell_type": "code",
   "execution_count": null,
   "id": "13e9192a",
   "metadata": {},
   "outputs": [],
   "source": []
  }
 ],
 "metadata": {
  "kaggle": {
   "accelerator": "none",
   "dataSources": [
    {
     "datasetId": 134715,
     "sourceId": 320111,
     "sourceType": "datasetVersion"
    }
   ],
   "dockerImageVersionId": 30673,
   "isGpuEnabled": false,
   "isInternetEnabled": true,
   "language": "python",
   "sourceType": "notebook"
  },
  "kernelspec": {
   "display_name": "Python 3",
   "language": "python",
   "name": "python3"
  },
  "language_info": {
   "codemirror_mode": {
    "name": "ipython",
    "version": 3
   },
   "file_extension": ".py",
   "mimetype": "text/x-python",
   "name": "python",
   "nbconvert_exporter": "python",
   "pygments_lexer": "ipython3",
   "version": "3.8.18"
  },
  "papermill": {
   "default_parameters": {},
   "duration": 237.466206,
   "end_time": "2024-04-07T22:11:40.170783",
   "environment_variables": {},
   "exception": null,
   "input_path": "__notebook__.ipynb",
   "output_path": "__notebook__.ipynb",
   "parameters": {},
   "start_time": "2024-04-07T22:07:42.704577",
   "version": "2.5.0"
  }
 },
 "nbformat": 4,
 "nbformat_minor": 5
}
